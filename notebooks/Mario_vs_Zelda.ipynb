{
 "cells": [
  {
   "cell_type": "markdown",
   "metadata": {},
   "source": [
    "<img src=\"../images/mario_v_zelda.jpg\" width=\"1920\" height=\"1080\">\n",
    "\n",
    "Image credit: [thenerdstash.com](https://thenerdstash.com/clash-at-the-stash-1-the-mario-franchise-vs-the-zelda-franchise/)"
   ]
  },
  {
   "cell_type": "markdown",
   "metadata": {},
   "source": [
    "## Which Nintendo franchise is more popular, Mario or Zelda?\n",
    "\n",
    "Super Mario and The Legend of Zelda are two of the most popular gaming franchises in history. Nintendo fans often argue about which franchise is better. Of course, this all depends on your gaming preferences, but we may be able to determine which franchise is most popular among fans.\n",
    "\n",
    "The purpose of this project is to analyze Nintendo's tweets to discover if tweets about Mario garner more favorites or retweets than tweets about The Legend of Zelda. We will accomplish this through simple permutation testing using the difference of the means as a test statistic."
   ]
  },
  {
   "cell_type": "markdown",
   "metadata": {},
   "source": [
    "### Import packages"
   ]
  },
  {
   "cell_type": "code",
   "execution_count": 4,
   "metadata": {},
   "outputs": [],
   "source": [
    "%matplotlib inline\n",
    "import numpy as np\n",
    "import pandas as pd\n",
    "import pytz\n",
    "import matplotlib.pyplot as plt\n",
    "import seaborn as sns\n",
    "np.random.seed(64)"
   ]
  },
  {
   "cell_type": "markdown",
   "metadata": {},
   "source": [
    "### Load data\n",
    "\n",
    "The data was downloaded from the Twitter API. Twitter only allows 200 tweets per request, but I was able to make multiple requests in order to accumulate just under 2,500 tweets going back to December 2018. The data does not contain retweets, only original tweets from Nintendo of America's account."
   ]
  },
  {
   "cell_type": "code",
   "execution_count": 5,
   "metadata": {},
   "outputs": [
    {
     "data": {
      "text/html": [
       "<div>\n",
       "<style scoped>\n",
       "    .dataframe tbody tr th:only-of-type {\n",
       "        vertical-align: middle;\n",
       "    }\n",
       "\n",
       "    .dataframe tbody tr th {\n",
       "        vertical-align: top;\n",
       "    }\n",
       "\n",
       "    .dataframe thead th {\n",
       "        text-align: right;\n",
       "    }\n",
       "</style>\n",
       "<table border=\"1\" class=\"dataframe\">\n",
       "  <thead>\n",
       "    <tr style=\"text-align: right;\">\n",
       "      <th></th>\n",
       "      <th>id</th>\n",
       "      <th>created_at</th>\n",
       "      <th>fav</th>\n",
       "      <th>rt</th>\n",
       "      <th>text</th>\n",
       "    </tr>\n",
       "  </thead>\n",
       "  <tbody>\n",
       "    <tr>\n",
       "      <th>0</th>\n",
       "      <td>1299059620540035072</td>\n",
       "      <td>2020-08-27 19:02:03</td>\n",
       "      <td>1380</td>\n",
       "      <td>192</td>\n",
       "      <td>Discover a puzzling adventure as a lost ember ...</td>\n",
       "    </tr>\n",
       "    <tr>\n",
       "      <th>1</th>\n",
       "      <td>1299029126846787586</td>\n",
       "      <td>2020-08-27 17:00:53</td>\n",
       "      <td>1881</td>\n",
       "      <td>351</td>\n",
       "      <td>All aboard the caravan!\\n\\n#FinalFantasy Cryst...</td>\n",
       "    </tr>\n",
       "    <tr>\n",
       "      <th>2</th>\n",
       "      <td>1299014221829738498</td>\n",
       "      <td>2020-08-27 16:01:39</td>\n",
       "      <td>1464</td>\n",
       "      <td>141</td>\n",
       "      <td>The Lore, Legends, and Heroes from Marvel have...</td>\n",
       "    </tr>\n",
       "    <tr>\n",
       "      <th>3</th>\n",
       "      <td>1298999090429059076</td>\n",
       "      <td>2020-08-27 15:01:32</td>\n",
       "      <td>1713</td>\n",
       "      <td>157</td>\n",
       "      <td>The war to save Reality starts now! Drop into ...</td>\n",
       "    </tr>\n",
       "    <tr>\n",
       "      <th>4</th>\n",
       "      <td>1298788572263329792</td>\n",
       "      <td>2020-08-27 01:05:00</td>\n",
       "      <td>2912</td>\n",
       "      <td>385</td>\n",
       "      <td>🎶 Play to the beat of your own drum with 39 ne...</td>\n",
       "    </tr>\n",
       "  </tbody>\n",
       "</table>\n",
       "</div>"
      ],
      "text/plain": [
       "                    id           created_at   fav   rt  \\\n",
       "0  1299059620540035072  2020-08-27 19:02:03  1380  192   \n",
       "1  1299029126846787586  2020-08-27 17:00:53  1881  351   \n",
       "2  1299014221829738498  2020-08-27 16:01:39  1464  141   \n",
       "3  1298999090429059076  2020-08-27 15:01:32  1713  157   \n",
       "4  1298788572263329792  2020-08-27 01:05:00  2912  385   \n",
       "\n",
       "                                                text  \n",
       "0  Discover a puzzling adventure as a lost ember ...  \n",
       "1  All aboard the caravan!\\n\\n#FinalFantasy Cryst...  \n",
       "2  The Lore, Legends, and Heroes from Marvel have...  \n",
       "3  The war to save Reality starts now! Drop into ...  \n",
       "4  🎶 Play to the beat of your own drum with 39 ne...  "
      ]
     },
     "execution_count": 5,
     "metadata": {},
     "output_type": "execute_result"
    }
   ],
   "source": [
    "# load data\n",
    "nintendo = pd.read_csv('../data/Nintendo_tweets.csv', index_col=0)\n",
    "\n",
    "# take a look at the data frame\n",
    "nintendo.head()"
   ]
  },
  {
   "cell_type": "markdown",
   "metadata": {},
   "source": [
    "### Data Exploration"
   ]
  },
  {
   "cell_type": "markdown",
   "metadata": {},
   "source": [
    "Let's see how much data we have, if the types of the data make sense and if there are any nulls in the data."
   ]
  },
  {
   "cell_type": "code",
   "execution_count": 6,
   "metadata": {},
   "outputs": [
    {
     "data": {
      "text/plain": [
       "2433"
      ]
     },
     "execution_count": 6,
     "metadata": {},
     "output_type": "execute_result"
    }
   ],
   "source": [
    "nintendo.shape[0]"
   ]
  },
  {
   "cell_type": "code",
   "execution_count": 7,
   "metadata": {},
   "outputs": [
    {
     "data": {
      "text/plain": [
       "id             int64\n",
       "created_at    object\n",
       "fav            int64\n",
       "rt             int64\n",
       "text          object\n",
       "dtype: object"
      ]
     },
     "execution_count": 7,
     "metadata": {},
     "output_type": "execute_result"
    }
   ],
   "source": [
    "nintendo.dtypes"
   ]
  },
  {
   "cell_type": "code",
   "execution_count": 8,
   "metadata": {},
   "outputs": [
    {
     "name": "stdout",
     "output_type": "stream",
     "text": [
      "<class 'pandas.core.frame.DataFrame'>\n",
      "Int64Index: 2433 entries, 0 to 5\n",
      "Data columns (total 5 columns):\n",
      " #   Column      Non-Null Count  Dtype \n",
      "---  ------      --------------  ----- \n",
      " 0   id          2433 non-null   int64 \n",
      " 1   created_at  2433 non-null   object\n",
      " 2   fav         2433 non-null   int64 \n",
      " 3   rt          2433 non-null   int64 \n",
      " 4   text        2433 non-null   object\n",
      "dtypes: int64(3), object(2)\n",
      "memory usage: 114.0+ KB\n"
     ]
    }
   ],
   "source": [
    "nintendo.info()"
   ]
  },
  {
   "cell_type": "markdown",
   "metadata": {},
   "source": [
    "Alright, the data looks fine for our analysis. Let'a take a closer look at the favorite and retweet columns."
   ]
  },
  {
   "cell_type": "code",
   "execution_count": 9,
   "metadata": {},
   "outputs": [
    {
     "data": {
      "text/html": [
       "<div>\n",
       "<style scoped>\n",
       "    .dataframe tbody tr th:only-of-type {\n",
       "        vertical-align: middle;\n",
       "    }\n",
       "\n",
       "    .dataframe tbody tr th {\n",
       "        vertical-align: top;\n",
       "    }\n",
       "\n",
       "    .dataframe thead th {\n",
       "        text-align: right;\n",
       "    }\n",
       "</style>\n",
       "<table border=\"1\" class=\"dataframe\">\n",
       "  <thead>\n",
       "    <tr style=\"text-align: right;\">\n",
       "      <th></th>\n",
       "      <th>fav</th>\n",
       "      <th>rt</th>\n",
       "    </tr>\n",
       "  </thead>\n",
       "  <tbody>\n",
       "    <tr>\n",
       "      <th>count</th>\n",
       "      <td>2433.000000</td>\n",
       "      <td>2433.000000</td>\n",
       "    </tr>\n",
       "    <tr>\n",
       "      <th>mean</th>\n",
       "      <td>5661.341143</td>\n",
       "      <td>1109.221537</td>\n",
       "    </tr>\n",
       "    <tr>\n",
       "      <th>std</th>\n",
       "      <td>12316.417899</td>\n",
       "      <td>3679.911568</td>\n",
       "    </tr>\n",
       "    <tr>\n",
       "      <th>min</th>\n",
       "      <td>240.000000</td>\n",
       "      <td>17.000000</td>\n",
       "    </tr>\n",
       "    <tr>\n",
       "      <th>25%</th>\n",
       "      <td>1379.000000</td>\n",
       "      <td>167.000000</td>\n",
       "    </tr>\n",
       "    <tr>\n",
       "      <th>50%</th>\n",
       "      <td>2533.000000</td>\n",
       "      <td>356.000000</td>\n",
       "    </tr>\n",
       "    <tr>\n",
       "      <th>75%</th>\n",
       "      <td>5692.000000</td>\n",
       "      <td>884.000000</td>\n",
       "    </tr>\n",
       "    <tr>\n",
       "      <th>max</th>\n",
       "      <td>350698.000000</td>\n",
       "      <td>123183.000000</td>\n",
       "    </tr>\n",
       "  </tbody>\n",
       "</table>\n",
       "</div>"
      ],
      "text/plain": [
       "                 fav             rt\n",
       "count    2433.000000    2433.000000\n",
       "mean     5661.341143    1109.221537\n",
       "std     12316.417899    3679.911568\n",
       "min       240.000000      17.000000\n",
       "25%      1379.000000     167.000000\n",
       "50%      2533.000000     356.000000\n",
       "75%      5692.000000     884.000000\n",
       "max    350698.000000  123183.000000"
      ]
     },
     "execution_count": 9,
     "metadata": {},
     "output_type": "execute_result"
    }
   ],
   "source": [
    "nintendo[['fav', 'rt']].describe()"
   ]
  },
  {
   "cell_type": "markdown",
   "metadata": {},
   "source": [
    "Wow, looks like one tweet got over 350,000 favorites. Let's see what tweet was so popular."
   ]
  },
  {
   "cell_type": "code",
   "execution_count": 10,
   "metadata": {},
   "outputs": [
    {
     "name": "stdout",
     "output_type": "stream",
     "text": [
      "['Nintendo fans, Reggie has a message for all of you. Please take a look. https://t.co/EAhaEl5oEJ']\n"
     ]
    }
   ],
   "source": [
    "print(nintendo[nintendo['fav'] == max(nintendo['fav'])]['text'].values)"
   ]
  },
  {
   "cell_type": "markdown",
   "metadata": {},
   "source": [
    "Ah, this is when Reggie Fils-Aime, the previous president of Nintendo of America, announced his retirement. Reggie, or 'The Regginator' as he is lovingly called, is very popular among Nintendo fans, so I'm sure this tweet got a lot of reaction from Nintendo's followers.\n",
    "\n",
    "Now, let's take a look at the ditribution of favorites and retweets."
   ]
  },
  {
   "cell_type": "code",
   "execution_count": 8,
   "metadata": {},
   "outputs": [
    {
     "data": {
      "image/png": "[encoded data removed]",
      "text/plain": [
       "<Figure size 1440x720 with 1 Axes>"
      ]
     },
     "metadata": {
      "needs_background": "light"
     },
     "output_type": "display_data"
    }
   ],
   "source": [
    "plt.figure(figsize=(20,10));\n",
    "sns.distplot(nintendo['fav'], kde=False).set_title('Distribution of Favorites on Nintendo Tweets');\n",
    "plt.show()"
   ]
  },
  {
   "cell_type": "code",
   "execution_count": 9,
   "metadata": {},
   "outputs": [
    {
     "data": {
      "image/png": "[encoded data removed]",
      "text/plain": [
       "<Figure size 1440x720 with 1 Axes>"
      ]
     },
     "metadata": {
      "needs_background": "light"
     },
     "output_type": "display_data"
    }
   ],
   "source": [
    "plt.figure(figsize=(20,10));\n",
    "sns.distplot(nintendo['rt'], kde=False).set_title('Distribution of Retweets on Nintendo Tweets');\n",
    "plt.show()"
   ]
  },
  {
   "cell_type": "markdown",
   "metadata": {},
   "source": [
    "Both distributions are pretty skewed. There are a lot of tweets with a couple thousand favorites or less and very few with 5,000 favorites or more. In terms of the retweets, there are a lot of tweets with a few hundred likes and very few with over 1000 retweets."
   ]
  },
  {
   "cell_type": "markdown",
   "metadata": {},
   "source": [
    "## Filtering on Mario and The Legend of Zelda\n",
    "\n",
    "Although the distributions of favorites and retweets are interesting, we are more concerned with the actual content of the tweets. We want to determine which tweets were about Mario and which were about The Legend of Zelda. An easy way to do this is to isolate hashtags in Nintendo's tweets. Let's write a function that extracts hashtags from Nintendo's tweeets and returns them in a list."
   ]
  },
  {
   "cell_type": "code",
   "execution_count": 10,
   "metadata": {},
   "outputs": [],
   "source": [
    "def extract_hastag(text):\n",
    "    \"\"\"\n",
    "    Given an array of text strings, extract all hastags and return them in a list.\n",
    "    \"\"\"\n",
    "    \n",
    "    # Initialize an empty list to store hashtags\n",
    "    hashtag_list = []\n",
    "    \n",
    "    # Loop through array\n",
    "    for string in text:\n",
    "        # Split the text by word\n",
    "        for word in string.split():\n",
    "            # check if the word starts with a #\n",
    "            if word[0] == '#':\n",
    "                # remove !, ., ? from end of hastag\n",
    "                word = word.replace('!', '')\n",
    "                word = word.replace('?', '')\n",
    "                word = word.replace('.', '')\n",
    "                word = word.replace(':', '')\n",
    "                word = word.replace(',', '')\n",
    "                # add hashtag to list\n",
    "                hashtag_list.append(word)\n",
    "    \n",
    "    return hashtag_list"
   ]
  },
  {
   "cell_type": "markdown",
   "metadata": {},
   "source": [
    "Now, let's use the function to see the most popular hashtags."
   ]
  },
  {
   "cell_type": "code",
   "execution_count": 11,
   "metadata": {},
   "outputs": [],
   "source": [
    "hashtags = pd.Series(extract_hastag(nintendo['text']))"
   ]
  },
  {
   "cell_type": "code",
   "execution_count": 12,
   "metadata": {
    "scrolled": true
   },
   "outputs": [
    {
     "data": {
      "text/plain": [
       "#NintendoSwitch        799\n",
       "#eShop                 127\n",
       "#PokemonSwordShield    113\n",
       "#SuperMarioMaker2      110\n",
       "#AnimalCrossing        105\n",
       "#Zelda                  94\n",
       "#FireEmblem             93\n",
       "#NintendoMinute         90\n",
       "#SmashBrosUltimate      88\n",
       "#FEHeroes               79\n",
       "dtype: int64"
      ]
     },
     "execution_count": 12,
     "metadata": {},
     "output_type": "execute_result"
    }
   ],
   "source": [
    "hashtags.value_counts(sort=True)[:10]"
   ]
  },
  {
   "cell_type": "markdown",
   "metadata": {},
   "source": [
    "The Nintendo Switch hastag is the unsurprisingly the most popular. This makes sense, as it's Nintendo's main console and any game they talk about will also involve talking about the Switch.\n",
    "\n",
    "What is surprising to me is that a general Zelda hastag makes it into the top 10, but a general Super Mario hastag does not! Considering Mario is bascially Nintendo's mascot, I would've thought his hashtag would've been used more frequently.\n",
    "\n",
    "Although extracting hastags was helpful, it seems tweets about Mario may not always use the #SuperMario hastag. Thus, we may want to simply isolate certain strings from the tweets. For the Mario franchise, we can probabaly use 'Mario' alone. For the Zelda franchise, we may need to add a few more like 'Zelda', 'Link', or 'Hyrule'.\n",
    "\n",
    "Looking at the list of the Super Mario games [here](https://en.wikipedia.org/wiki/Super_Mario#Series), it looks like the word 'Mario' is in every title. The string 'Mario' should be enough.\n",
    "\n",
    "Looking at the same for The Legend of Zelda [here](https://en.wikipedia.org/wiki/List_of_The_Legend_of_Zelda_media), it looks like 'Zelda' will do for the most part. However, it looks like a few titles only include 'Link' and 'Hyrule' so we will use these as well.\n",
    "\n",
    "Let's create two new dataframes that only have tweets concerning the Mario or Zelda franchises by filtering tweet text on the above strings."
   ]
  },
  {
   "cell_type": "code",
   "execution_count": 15,
   "metadata": {},
   "outputs": [],
   "source": [
    "# Mario or Zelda\n",
    "mario = nintendo[nintendo['text'].str.contains('Mario')]\n",
    "zelda = nintendo[nintendo['text'].str.contains('Link') | \n",
    "                 nintendo['text'].str.contains('Zelda') | \n",
    "                 nintendo['text'].str.contains('Hyrule')]"
   ]
  },
  {
   "cell_type": "code",
   "execution_count": 16,
   "metadata": {},
   "outputs": [
    {
     "data": {
      "text/html": [
       "<div>\n",
       "<style scoped>\n",
       "    .dataframe tbody tr th:only-of-type {\n",
       "        vertical-align: middle;\n",
       "    }\n",
       "\n",
       "    .dataframe tbody tr th {\n",
       "        vertical-align: top;\n",
       "    }\n",
       "\n",
       "    .dataframe thead th {\n",
       "        text-align: right;\n",
       "    }\n",
       "</style>\n",
       "<table border=\"1\" class=\"dataframe\">\n",
       "  <thead>\n",
       "    <tr style=\"text-align: right;\">\n",
       "      <th></th>\n",
       "      <th>id</th>\n",
       "      <th>created_at</th>\n",
       "      <th>fav</th>\n",
       "      <th>rt</th>\n",
       "      <th>text</th>\n",
       "    </tr>\n",
       "  </thead>\n",
       "  <tbody>\n",
       "    <tr>\n",
       "      <th>5</th>\n",
       "      <td>1298711843104411648</td>\n",
       "      <td>2020-08-26 20:00:06</td>\n",
       "      <td>2410</td>\n",
       "      <td>207</td>\n",
       "      <td>A new Ninji Speedruns course, \"Big Shoes Gusti...</td>\n",
       "    </tr>\n",
       "    <tr>\n",
       "      <th>54</th>\n",
       "      <td>1294393469952294913</td>\n",
       "      <td>2020-08-14 22:00:26</td>\n",
       "      <td>1072</td>\n",
       "      <td>89</td>\n",
       "      <td>Kit &amp;amp; Krysta attempt expert level #PaperMa...</td>\n",
       "    </tr>\n",
       "    <tr>\n",
       "      <th>56</th>\n",
       "      <td>1293985603499864064</td>\n",
       "      <td>2020-08-13 18:59:43</td>\n",
       "      <td>329</td>\n",
       "      <td>19</td>\n",
       "      <td>NO PURCH. NEC. Must be US &amp;amp; CAN res. age 1...</td>\n",
       "    </tr>\n",
       "    <tr>\n",
       "      <th>57</th>\n",
       "      <td>1293985602149392384</td>\n",
       "      <td>2020-08-13 18:59:43</td>\n",
       "      <td>1723</td>\n",
       "      <td>218</td>\n",
       "      <td>It’s almost time to tear up the track in the #...</td>\n",
       "    </tr>\n",
       "    <tr>\n",
       "      <th>60</th>\n",
       "      <td>1293608193659154432</td>\n",
       "      <td>2020-08-12 18:00:02</td>\n",
       "      <td>85512</td>\n",
       "      <td>9017</td>\n",
       "      <td>Stay cool, Mario! https://t.co/xID5J1lmuH</td>\n",
       "    </tr>\n",
       "  </tbody>\n",
       "</table>\n",
       "</div>"
      ],
      "text/plain": [
       "                     id           created_at    fav    rt  \\\n",
       "5   1298711843104411648  2020-08-26 20:00:06   2410   207   \n",
       "54  1294393469952294913  2020-08-14 22:00:26   1072    89   \n",
       "56  1293985603499864064  2020-08-13 18:59:43    329    19   \n",
       "57  1293985602149392384  2020-08-13 18:59:43   1723   218   \n",
       "60  1293608193659154432  2020-08-12 18:00:02  85512  9017   \n",
       "\n",
       "                                                 text  \n",
       "5   A new Ninji Speedruns course, \"Big Shoes Gusti...  \n",
       "54  Kit &amp; Krysta attempt expert level #PaperMa...  \n",
       "56  NO PURCH. NEC. Must be US &amp; CAN res. age 1...  \n",
       "57  It’s almost time to tear up the track in the #...  \n",
       "60          Stay cool, Mario! https://t.co/xID5J1lmuH  "
      ]
     },
     "execution_count": 16,
     "metadata": {},
     "output_type": "execute_result"
    }
   ],
   "source": [
    "mario.head()"
   ]
  },
  {
   "cell_type": "markdown",
   "metadata": {},
   "source": [
    "### Mario vs Zelda"
   ]
  },
  {
   "cell_type": "code",
   "execution_count": 17,
   "metadata": {},
   "outputs": [
    {
     "data": {
      "text/plain": [
       "310"
      ]
     },
     "execution_count": 17,
     "metadata": {},
     "output_type": "execute_result"
    }
   ],
   "source": [
    "mario.shape[0]"
   ]
  },
  {
   "cell_type": "code",
   "execution_count": 18,
   "metadata": {},
   "outputs": [
    {
     "data": {
      "text/html": [
       "<div>\n",
       "<style scoped>\n",
       "    .dataframe tbody tr th:only-of-type {\n",
       "        vertical-align: middle;\n",
       "    }\n",
       "\n",
       "    .dataframe tbody tr th {\n",
       "        vertical-align: top;\n",
       "    }\n",
       "\n",
       "    .dataframe thead th {\n",
       "        text-align: right;\n",
       "    }\n",
       "</style>\n",
       "<table border=\"1\" class=\"dataframe\">\n",
       "  <thead>\n",
       "    <tr style=\"text-align: right;\">\n",
       "      <th></th>\n",
       "      <th>id</th>\n",
       "      <th>created_at</th>\n",
       "      <th>fav</th>\n",
       "      <th>rt</th>\n",
       "      <th>text</th>\n",
       "    </tr>\n",
       "  </thead>\n",
       "  <tbody>\n",
       "    <tr>\n",
       "      <th>4</th>\n",
       "      <td>1298788572263329792</td>\n",
       "      <td>2020-08-27 01:05:00</td>\n",
       "      <td>2912</td>\n",
       "      <td>385</td>\n",
       "      <td>🎶 Play to the beat of your own drum with 39 ne...</td>\n",
       "    </tr>\n",
       "    <tr>\n",
       "      <th>128</th>\n",
       "      <td>1285228096518385666</td>\n",
       "      <td>2020-07-20 15:00:31</td>\n",
       "      <td>2699</td>\n",
       "      <td>419</td>\n",
       "      <td>A physical version of #CadenceOfHyrule – Crypt...</td>\n",
       "    </tr>\n",
       "    <tr>\n",
       "      <th>129</th>\n",
       "      <td>1285227777751494657</td>\n",
       "      <td>2020-07-20 14:59:15</td>\n",
       "      <td>5025</td>\n",
       "      <td>809</td>\n",
       "      <td>Keep stepping to the beat with new content for...</td>\n",
       "    </tr>\n",
       "    <tr>\n",
       "      <th>425</th>\n",
       "      <td>1253789339189829632</td>\n",
       "      <td>2020-04-24 20:54:07</td>\n",
       "      <td>912</td>\n",
       "      <td>85</td>\n",
       "      <td>Which of Link’s companions would you pick to b...</td>\n",
       "    </tr>\n",
       "    <tr>\n",
       "      <th>579</th>\n",
       "      <td>1236064014225948673</td>\n",
       "      <td>2020-03-06 23:00:00</td>\n",
       "      <td>1507</td>\n",
       "      <td>156</td>\n",
       "      <td>Which is the fastest way between two points in...</td>\n",
       "    </tr>\n",
       "  </tbody>\n",
       "</table>\n",
       "</div>"
      ],
      "text/plain": [
       "                      id           created_at   fav   rt  \\\n",
       "4    1298788572263329792  2020-08-27 01:05:00  2912  385   \n",
       "128  1285228096518385666  2020-07-20 15:00:31  2699  419   \n",
       "129  1285227777751494657  2020-07-20 14:59:15  5025  809   \n",
       "425  1253789339189829632  2020-04-24 20:54:07   912   85   \n",
       "579  1236064014225948673  2020-03-06 23:00:00  1507  156   \n",
       "\n",
       "                                                  text  \n",
       "4    🎶 Play to the beat of your own drum with 39 ne...  \n",
       "128  A physical version of #CadenceOfHyrule – Crypt...  \n",
       "129  Keep stepping to the beat with new content for...  \n",
       "425  Which of Link’s companions would you pick to b...  \n",
       "579  Which is the fastest way between two points in...  "
      ]
     },
     "execution_count": 18,
     "metadata": {},
     "output_type": "execute_result"
    }
   ],
   "source": [
    "zelda.head()"
   ]
  },
  {
   "cell_type": "code",
   "execution_count": 19,
   "metadata": {},
   "outputs": [
    {
     "data": {
      "text/plain": [
       "138"
      ]
     },
     "execution_count": 19,
     "metadata": {},
     "output_type": "execute_result"
    }
   ],
   "source": [
    "zelda.shape[0]"
   ]
  },
  {
   "cell_type": "markdown",
   "metadata": {},
   "source": [
    "Just looking at the amount of tweets, Nintendo seems to mention Mario a bit more. Let's see how the average favorite counts compare."
   ]
  },
  {
   "cell_type": "code",
   "execution_count": 20,
   "metadata": {},
   "outputs": [
    {
     "name": "stdout",
     "output_type": "stream",
     "text": [
      "Tweets about Mario receive an average of 6,982 favorites.\n",
      "Tweets about Zelda receive an average of 6,978 favorites.\n"
     ]
    }
   ],
   "source": [
    "mario_fav_mean = mario['fav'].mean()\n",
    "zelda_fav_mean = zelda['fav'].mean()\n",
    "\n",
    "print(f\"Tweets about Mario receive an average of {mario_fav_mean:,.0f} favorites.\")\n",
    "print(f\"Tweets about Zelda receive an average of {zelda_fav_mean:,.0f} favorites.\")"
   ]
  },
  {
   "cell_type": "markdown",
   "metadata": {},
   "source": [
    "Mario actually gets a bit more favorites on average. What about retweets?"
   ]
  },
  {
   "cell_type": "code",
   "execution_count": 21,
   "metadata": {},
   "outputs": [
    {
     "name": "stdout",
     "output_type": "stream",
     "text": [
      "Tweets about Mario receive an average of 1316 retweets.\n",
      "Tweets about Zelda receive an average of 1513 retweets.\n"
     ]
    }
   ],
   "source": [
    "mario_rt_mean = mario['rt'].mean()\n",
    "zelda_rt_mean = zelda['rt'].mean()\n",
    "\n",
    "print(f\"Tweets about Mario receive an average of {mario_rt_mean:.0f} retweets.\")\n",
    "print(f\"Tweets about Zelda receive an average of {zelda_rt_mean:.0f} retweets.\")"
   ]
  },
  {
   "cell_type": "markdown",
   "metadata": {},
   "source": [
    "Zelda wins here, but they are relatively close again. This is most likely due to chance, but let's do a permutation test to make sure. In order to do this, we will need a function that will create bootstrap replicates of the mean favorites and retweets. Let's write that function now."
   ]
  },
  {
   "cell_type": "code",
   "execution_count": 22,
   "metadata": {},
   "outputs": [],
   "source": [
    "# function that takes in a data array and creates n bootstrap replicates\n",
    "def draw_bootstrap_reps(data, function, n=1):\n",
    "    \"\"\"\n",
    "    Draw n bootstrap replicates from data using given function\n",
    "    \"\"\"\n",
    "    # Initialize an empty array for storing replicates\n",
    "    bs_replicates = np.empty(n)\n",
    "    \n",
    "    # Given a size n\n",
    "    for i in range(n):\n",
    "        # Generate a random sample with replacement from data\n",
    "        bs_sample = np.random.choice(data, len(data))\n",
    "        # create the replicate using the given function\n",
    "        bs_replicates[i] = function(bs_sample)\n",
    "    \n",
    "    return bs_replicates"
   ]
  },
  {
   "cell_type": "markdown",
   "metadata": {},
   "source": [
    "Let's make sure our function works by taking a large number of samples and plotting the distribution of means. If we take 10,000 bootstrap samples, we would expect the distribution to be approximately normal."
   ]
  },
  {
   "cell_type": "code",
   "execution_count": 23,
   "metadata": {},
   "outputs": [
    {
     "data": {
      "image/png": "[encoded data removed]",
      "text/plain": [
       "<Figure size 432x288 with 1 Axes>"
      ]
     },
     "metadata": {
      "needs_background": "light"
     },
     "output_type": "display_data"
    }
   ],
   "source": [
    "mario_fav_mean_replicates = draw_bootstrap_reps(mario['fav'], np.mean, 10000)\n",
    "\n",
    "ax = sns.distplot(mario_fav_mean_replicates, kde=True).set_title(\"Distribution of mean favorites on Mario tweets\");\n",
    "plt.show()"
   ]
  },
  {
   "cell_type": "markdown",
   "metadata": {},
   "source": [
    "It looks like the distribution of average favorites is roughly normal, with just a slightly longer right tail. We would expect the same to hold for tweets about Zelda."
   ]
  },
  {
   "cell_type": "code",
   "execution_count": 24,
   "metadata": {},
   "outputs": [
    {
     "data": {
      "image/png": "[encoded data removed]",
      "text/plain": [
       "<Figure size 432x288 with 1 Axes>"
      ]
     },
     "metadata": {
      "needs_background": "light"
     },
     "output_type": "display_data"
    }
   ],
   "source": [
    "zelda_fav_mean_replicates = draw_bootstrap_reps(zelda['fav'], np.mean, 10000)\n",
    "\n",
    "ax = sns.distplot(zelda_fav_mean_replicates, kde=True).set_title(\"Distribution of mean favorites on Zelda tweets\");\n",
    "plt.show()"
   ]
  },
  {
   "cell_type": "markdown",
   "metadata": {},
   "source": [
    "The distribution for favorites on Zelda tweets looks very similar. Now, lets compute 95% confidence intervals from the bootstrap replicates."
   ]
  },
  {
   "cell_type": "code",
   "execution_count": 25,
   "metadata": {},
   "outputs": [
    {
     "name": "stdout",
     "output_type": "stream",
     "text": [
      "95% CI for Mario favorites: (5,537.71, 8,616.81)\n",
      "95% CI for Zelda favorites: (4,884.24, 9,632.55)\n"
     ]
    }
   ],
   "source": [
    "mario_fav_95_ci = np.percentile(mario_fav_mean_replicates, [2.5, 97.5])\n",
    "zelda_fav_95_ci = np.percentile(zelda_fav_mean_replicates, [2.5, 97.5])\n",
    "\n",
    "print(f\"95% CI for Mario favorites: ({mario_fav_95_ci[0]:0,.2f}, {mario_fav_95_ci[1]:,.2f})\")\n",
    "print(f\"95% CI for Zelda favorites: ({zelda_fav_95_ci[0]:0,.2f}, {zelda_fav_95_ci[1]:,.2f})\")"
   ]
  },
  {
   "cell_type": "markdown",
   "metadata": {},
   "source": [
    "Alright, there is pretty significant overlap between the confidence intervals. It is looking likely that the distributions are the same. To make it official, let's run a permutation test. First, we will write a function that will draw a permutation sample from two given datasets. The function, which will be called `permutation_sample`, will take two datasets, concatenate them together, shuffle them and then split them back up. We will need this later when we simulate many permutations."
   ]
  },
  {
   "cell_type": "code",
   "execution_count": 26,
   "metadata": {},
   "outputs": [],
   "source": [
    "def permutation_sample(data1, data2):\n",
    "    \"\"\"\n",
    "    Given two (array-like) data sets, create a permutation sample\n",
    "    \"\"\"\n",
    "    \n",
    "    # Concatenate the datasets together\n",
    "    data = np.concatenate((data1, data2))\n",
    "    \n",
    "    # 'Shuffle' the data\n",
    "    shuffled = np.random.permutation(data)\n",
    "    \n",
    "    # Re-assign the data back as perm_sample_1 and perm_sample_2\n",
    "    perm_sample_1 = shuffled[:len(data1)]\n",
    "    perm_sample_2 = shuffled[len(data1):]\n",
    "    \n",
    "    return perm_sample_1, perm_sample_2"
   ]
  },
  {
   "cell_type": "markdown",
   "metadata": {},
   "source": [
    "Awesome, we will now create another function that will generate permutation replicates. That is, given two sets of data, it will create a permutation and compute a statistic of interest as many times as we need."
   ]
  },
  {
   "cell_type": "code",
   "execution_count": 27,
   "metadata": {},
   "outputs": [],
   "source": [
    "def draw_permutation_replicates(data1, data2, function, n=1):\n",
    "    \"\"\"\n",
    "    Generate n permutation replicates using given function\n",
    "    \"\"\"\n",
    "    \n",
    "    # Create an empty array to store replicates\n",
    "    permutation_replicates = np.empty(n)\n",
    "    \n",
    "    for i in range(n):\n",
    "        # Create permutation sample\n",
    "        permuation_sample_1, permutation_sample_2 = permutation_sample(data1, data2)\n",
    "        \n",
    "        # Compute test statistic and store in permutation_replicates array\n",
    "        permutation_replicates[i] = function(permuation_sample_1, permutation_sample_2)\n",
    "        \n",
    "    return permutation_replicates"
   ]
  },
  {
   "cell_type": "markdown",
   "metadata": {},
   "source": [
    "Ok, we just need one more function. Since we are concerned with the difference of the means of the favorites, we will write a small function that computes the difference of means."
   ]
  },
  {
   "cell_type": "code",
   "execution_count": 28,
   "metadata": {},
   "outputs": [],
   "source": [
    "def mean_difference(data1, data2):\n",
    "    \"\"\"\n",
    "    Compute the difference of means of two (array-like) datasets\n",
    "    \"\"\"\n",
    "    \n",
    "    return np.mean(data1) - np.mean(data2)"
   ]
  },
  {
   "cell_type": "markdown",
   "metadata": {},
   "source": [
    "Ok, now we are ready to set up a permutation test. In this test, our test statistic will be the difference of the means between favorites for Mario and favorites for Zelda. Let's compute the actual difference we observed."
   ]
  },
  {
   "cell_type": "code",
   "execution_count": 29,
   "metadata": {},
   "outputs": [
    {
     "name": "stdout",
     "output_type": "stream",
     "text": [
      "The observed difference in means for favorites was 3.71\n"
     ]
    }
   ],
   "source": [
    "fav_observed_difference = mean_difference(mario['fav'], zelda['fav'])\n",
    "\n",
    "print(f\"The observed difference in means for favorites was {fav_observed_difference:,.2f}\")"
   ]
  },
  {
   "cell_type": "markdown",
   "metadata": {},
   "source": [
    "Time to run the permutation test. For this test, the null hypothesis is the the mean difference should be 0. That is to say, the distributions of favorites for Mario and Zelda are the same. If this is the case, we can simply draw many permutation replicates and calculate what percentage of them had a difference as exterme as the one we saw. If only a small percentage of the replicates were as extreme, we can conclude that the distributions are different. Let's draw the permutation replicates and compute the p-value."
   ]
  },
  {
   "cell_type": "code",
   "execution_count": 30,
   "metadata": {},
   "outputs": [
    {
     "name": "stdout",
     "output_type": "stream",
     "text": [
      "p-value: 0.51149\n"
     ]
    }
   ],
   "source": [
    "# Draw 100,000 permutation replicates of the difference of the means from the two datasets\n",
    "permutation_replicates = draw_permutation_replicates(mario['fav'], zelda['fav'], mean_difference, 100000)\n",
    "\n",
    "# Compute p-value\n",
    "p = np.sum(permutation_replicates >= fav_observed_difference) / len(permutation_replicates)\n",
    "\n",
    "print(f\"p-value: {p}\")"
   ]
  },
  {
   "cell_type": "markdown",
   "metadata": {},
   "source": [
    "Wow, just over half of the samples saw a difference as large as we observed. Thus, we cannot reject the null hypothesis. The distibution of average favorites on Mario and Zelda tweets may come from the same distribution.\n",
    "\n",
    "What about retweets though? Let's quickly run a similar test for the retweets."
   ]
  },
  {
   "cell_type": "code",
   "execution_count": 31,
   "metadata": {},
   "outputs": [
    {
     "name": "stdout",
     "output_type": "stream",
     "text": [
      "The observed difference in means for retweets was 197.31\n"
     ]
    }
   ],
   "source": [
    "rt_observed_difference = mean_difference(zelda['rt'], mario['rt'])\n",
    "\n",
    "print(f\"The observed difference in means for retweets was {rt_observed_difference:,.2f}\")"
   ]
  },
  {
   "cell_type": "code",
   "execution_count": 32,
   "metadata": {},
   "outputs": [
    {
     "name": "stdout",
     "output_type": "stream",
     "text": [
      "p-value: 0.46002\n"
     ]
    }
   ],
   "source": [
    "# Draw 100,000 permutation replicates of the difference in means\n",
    "rt_permutation_replicates = draw_permutation_replicates(zelda['rt'], mario['rt'], mean_difference, 100000)\n",
    "\n",
    "# Compute p-value\n",
    "rt_p = np.sum(permutation_replicates >= rt_observed_difference) / len(permutation_replicates)\n",
    "\n",
    "print(f\"p-value: {rt_p}\")"
   ]
  },
  {
   "cell_type": "markdown",
   "metadata": {},
   "source": [
    "Well, it looks like our p-value is almost as large as in the case of favorites. Thus, we still cannot separate these two distributions. It may be the case that these two franchises are equally popular among fans and thus see similar distributions of retweets and favorites when Nintendo tweets about them.\n",
    "\n",
    "However, do tweets about these franchises see more likes and retweets than the rest of Nintendo's tweets? Again, we can run a quick permutation test."
   ]
  },
  {
   "cell_type": "code",
   "execution_count": 33,
   "metadata": {},
   "outputs": [],
   "source": [
    "# Combine Mario and Zelda tweets\n",
    "mario_zelda = mario.append(zelda, ignore_index=True).drop_duplicates()\n",
    "\n",
    "not_mario_zelda = nintendo[~nintendo['id'].isin(mario_zelda['id'])]"
   ]
  },
  {
   "cell_type": "code",
   "execution_count": 34,
   "metadata": {},
   "outputs": [
    {
     "name": "stdout",
     "output_type": "stream",
     "text": [
      "Observed difference of average favorites: 1,720.38\n",
      "\n",
      "p-value: 0.0097\n"
     ]
    }
   ],
   "source": [
    "# Calculate the observed difference of favorites\n",
    "fav_observed_diff = mean_difference(mario_zelda['fav'], not_mario_zelda['fav'])\n",
    "print(f\"Observed difference of average favorites: {fav_observed_diff:,.2f}\\n\")\n",
    "\n",
    "# Draw 100,000 permutation reolicates of the difference in means\n",
    "fav_permutations = draw_permutation_replicates(mario_zelda['fav'], not_mario_zelda['fav'], mean_difference, 100000)\n",
    "\n",
    "# Compute p-value\n",
    "fav_p = np.sum(fav_permutations >= fav_observed_diff) / len(fav_permutations)\n",
    "print(f\"p-value: {fav_p}\")"
   ]
  },
  {
   "cell_type": "markdown",
   "metadata": {},
   "source": [
    "Aha! Less than 1% of the permutation samples saw a difference as extreme as we originally saw. We can conclude that the distributions of average favorites for tweets about Mario and Zelda is larger than that of Nintendo's tweets about other topics.\n",
    "\n",
    "Let's see if the same is true about retweets."
   ]
  },
  {
   "cell_type": "code",
   "execution_count": 35,
   "metadata": {},
   "outputs": [
    {
     "name": "stdout",
     "output_type": "stream",
     "text": [
      "Observed difference of average retweets: 351.20\n",
      "\n",
      "p-value: 0.05696\n"
     ]
    }
   ],
   "source": [
    "# Calculate the observed difference of favorites\n",
    "rt_observed_diff = mean_difference(mario_zelda['rt'], not_mario_zelda['rt'])\n",
    "print(f\"Observed difference of average retweets: {rt_observed_diff:,.2f}\\n\")\n",
    "\n",
    "# Draw 100,000 permutation reolicates of the difference in means\n",
    "rt_permutations = draw_permutation_replicates(mario_zelda['rt'], not_mario_zelda['rt'], mean_difference, 100000)\n",
    "\n",
    "# Compute p-value\n",
    "rt_p = np.sum(rt_permutations >= rt_observed_diff) / len(rt_permutations)\n",
    "print(f\"p-value: {rt_p}\")"
   ]
  },
  {
   "cell_type": "markdown",
   "metadata": {},
   "source": [
    "Our p-value here is just slightly over 5%. Although this means the result is not 'statistically' significant. It seems as though we observed a difference that is rather rare."
   ]
  },
  {
   "cell_type": "markdown",
   "metadata": {},
   "source": [
    "## Conclusion\n",
    "\n",
    "The purpose of this project was to find out which Nintendo franchise, Mario of The Legend of Zelda, is more popular using favorites and retweets on Nintendo's tweets as a proxy for popularity. Using permutation tests, we were unable to determine if the distributions of average favorites and retweets for Mario and Zelda were different. Thus, we were not able to say which franchise was more popular based on those statistics. \n",
    "\n",
    "However, we also ran a permutation test of Mario and Zelda tweets against all of Nintendo's other tweets. In terms of favorties, the results were statistically significant. The results for retweets were not statistically significant at the 0.05 level, but the p-value was only just above 5%. Therefore, we can pretty safely conclude that although Mario and The Legend of Zelda may be equally popular, they are definetly among the most popular things Nintendo tweets about.\n",
    "\n",
    "Favorites, which I believe are now called 'likes', and retweets are usually ways people express what twitter content they like or agree with, although this is not always the case. Thus, favorites and retweets seemed like a good measure of how popular the tweets were. However, is there a better metric? It is often said that if replies to a tweet vastly outnumber the amount of likes or retweets then users consider the content of the tweet to be poor. Unfortunately, twitter does not have an easy way to determine how many replies a tweet received. However, there are workarounds and using them will be the goal of my next project."
   ]
  }
 ],
 "metadata": {
  "kernelspec": {
   "display_name": "Python 3",
   "language": "python",
   "name": "python3"
  },
  "language_info": {
   "codemirror_mode": {
    "name": "ipython",
    "version": 3
   },
   "file_extension": ".py",
   "mimetype": "text/x-python",
   "name": "python",
   "nbconvert_exporter": "python",
   "pygments_lexer": "ipython3",
   "version": "3.7.6"
  }
 },
 "nbformat": 4,
 "nbformat_minor": 4
}
