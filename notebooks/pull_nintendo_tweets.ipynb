{
 "cells": [
  {
   "cell_type": "code",
   "execution_count": 14,
   "metadata": {},
   "outputs": [],
   "source": [
    "# import relevant packages\n",
    "import os\n",
    "import datetime as dt\n",
    "import tweepy as tw\n",
    "import pandas as pd\n",
    "import matplotlib.pyplot as plt\n",
    "%matplotlib inline"
   ]
  },
  {
   "cell_type": "code",
   "execution_count": 2,
   "metadata": {},
   "outputs": [],
   "source": [
    "consumer_key = 'X'\n",
    "consumer_secret = 'X'\n",
    "access_token = 'X'\n",
    "access_token_secret = 'X'"
   ]
  },
  {
   "cell_type": "code",
   "execution_count": 3,
   "metadata": {},
   "outputs": [],
   "source": [
    "auth = tw.OAuthHandler(consumer_key, consumer_secret)\n",
    "auth.set_access_token(access_token, access_token_secret)\n",
    "api = tw.API(auth)"
   ]
  },
  {
   "cell_type": "code",
   "execution_count": 4,
   "metadata": {},
   "outputs": [],
   "source": [
    "username = 'NintendoAmerica'"
   ]
  },
  {
   "cell_type": "code",
   "execution_count": 5,
   "metadata": {},
   "outputs": [],
   "source": [
    "tweets = api.user_timeline(screen_name=username, \n",
    "                           count=200, \n",
    "                           include_rts=False, \n",
    "                           tweet_mode='extended')"
   ]
  },
  {
   "cell_type": "code",
   "execution_count": 6,
   "metadata": {},
   "outputs": [
    {
     "name": "stdout",
     "output_type": "stream",
     "text": [
      "ID: 1299059620540035072\n",
      "2020-08-27 19:02:03\n",
      "Discover a puzzling adventure as a lost ember in search for meaning and a way home in The Last Campfire by @hellogames, available now on #NintendoSwitch!\n",
      "\n",
      "🔥: https://t.co/CzTSI2FeSX https://t.co/cZT8icR1uT\n",
      "\n",
      "\n",
      "ID: 1299029126846787586\n",
      "2020-08-27 17:00:53\n",
      "All aboard the caravan!\n",
      "\n",
      "#FinalFantasy Crystal Chronicles Remastered Edition is available now on #NintendoSwitch with improved visuals, new content, online multiplayer, cross-platform support and more!\n",
      "\n",
      "https://t.co/eVTxsQDSkx https://t.co/88HKCwsQAW\n",
      "\n",
      "\n",
      "ID: 1299014221829738498\n",
      "2020-08-27 16:01:39\n",
      "The Lore, Legends, and Heroes from Marvel have arrived in Fortnite! Suit up as eight Marvel Heroes and Villains with the Chapter 2 - Season 4 Battle Pass. #FortniteNexusWar\n",
      "\n",
      "https://t.co/Pfq8sEZf3I https://t.co/MZ8yMSW9I3\n",
      "\n",
      "\n"
     ]
    }
   ],
   "source": [
    "for info in tweets[:3]:\n",
    "    print(\"ID: {}\".format(info.id))\n",
    "    print(info.created_at)\n",
    "    print(info.full_text)\n",
    "    print(\"\\n\")"
   ]
  },
  {
   "cell_type": "code",
   "execution_count": 7,
   "metadata": {},
   "outputs": [
    {
     "name": "stdout",
     "output_type": "stream",
     "text": [
      "Number of tweets downloaded 314\n",
      "Number of tweets downloaded 456\n",
      "Number of tweets downloaded 593\n",
      "Number of tweets downloaded 739\n",
      "Number of tweets downloaded 901\n",
      "Number of tweets downloaded 1034\n",
      "Number of tweets downloaded 1166\n",
      "Number of tweets downloaded 1327\n",
      "Number of tweets downloaded 1477\n",
      "Number of tweets downloaded 1624\n",
      "Number of tweets downloaded 1795\n",
      "Number of tweets downloaded 1927\n",
      "Number of tweets downloaded 2075\n",
      "Number of tweets downloaded 2200\n",
      "Number of tweets downloaded 2349\n",
      "Number of tweets downloaded 2366\n"
     ]
    }
   ],
   "source": [
    "all_tweets = []\n",
    "all_tweets.extend(tweets)\n",
    "oldest_id = tweets[-1].id\n",
    "\n",
    "while True:\n",
    "    tweets = api.user_timeline(screen_name=username,\n",
    "                               count=200,\n",
    "                               include_rts=False,\n",
    "                               max_id = oldest_id - 1,\n",
    "                               tweet_mode='extended')\n",
    "    if len(tweets) == 0:\n",
    "        break\n",
    "    oldest_id = tweets[-1].id\n",
    "    all_tweets.extend(tweets)\n",
    "    print(\"Number of tweets downloaded {}\".format(len(all_tweets)))"
   ]
  },
  {
   "cell_type": "code",
   "execution_count": 8,
   "metadata": {},
   "outputs": [
    {
     "name": "stdout",
     "output_type": "stream",
     "text": [
      "2018-12-27 16:00:00\n"
     ]
    }
   ],
   "source": [
    "print(all_tweets[-1].created_at)"
   ]
  },
  {
   "cell_type": "code",
   "execution_count": 9,
   "metadata": {},
   "outputs": [],
   "source": [
    "outtweets = [[tweet.id_str,\n",
    "              tweet.created_at,\n",
    "              tweet.favorite_count,\n",
    "              tweet.retweet_count,\n",
    "              tweet.full_text.encode(\"utf-8\").decode(\"utf-8\")]\n",
    "             for idx, tweet in enumerate(all_tweets)]"
   ]
  },
  {
   "cell_type": "code",
   "execution_count": 10,
   "metadata": {},
   "outputs": [
    {
     "data": {
      "text/html": [
       "<div>\n",
       "<style scoped>\n",
       "    .dataframe tbody tr th:only-of-type {\n",
       "        vertical-align: middle;\n",
       "    }\n",
       "\n",
       "    .dataframe tbody tr th {\n",
       "        vertical-align: top;\n",
       "    }\n",
       "\n",
       "    .dataframe thead th {\n",
       "        text-align: right;\n",
       "    }\n",
       "</style>\n",
       "<table border=\"1\" class=\"dataframe\">\n",
       "  <thead>\n",
       "    <tr style=\"text-align: right;\">\n",
       "      <th></th>\n",
       "      <th>id</th>\n",
       "      <th>created_at</th>\n",
       "      <th>fav</th>\n",
       "      <th>rt</th>\n",
       "      <th>text</th>\n",
       "    </tr>\n",
       "  </thead>\n",
       "  <tbody>\n",
       "    <tr>\n",
       "      <th>0</th>\n",
       "      <td>1299059620540035072</td>\n",
       "      <td>2020-08-27 19:02:03</td>\n",
       "      <td>1380</td>\n",
       "      <td>192</td>\n",
       "      <td>Discover a puzzling adventure as a lost ember ...</td>\n",
       "    </tr>\n",
       "    <tr>\n",
       "      <th>1</th>\n",
       "      <td>1299029126846787586</td>\n",
       "      <td>2020-08-27 17:00:53</td>\n",
       "      <td>1881</td>\n",
       "      <td>351</td>\n",
       "      <td>All aboard the caravan!\\n\\n#FinalFantasy Cryst...</td>\n",
       "    </tr>\n",
       "    <tr>\n",
       "      <th>2</th>\n",
       "      <td>1299014221829738498</td>\n",
       "      <td>2020-08-27 16:01:39</td>\n",
       "      <td>1464</td>\n",
       "      <td>141</td>\n",
       "      <td>The Lore, Legends, and Heroes from Marvel have...</td>\n",
       "    </tr>\n",
       "    <tr>\n",
       "      <th>3</th>\n",
       "      <td>1298999090429059076</td>\n",
       "      <td>2020-08-27 15:01:32</td>\n",
       "      <td>1713</td>\n",
       "      <td>157</td>\n",
       "      <td>The war to save Reality starts now! Drop into ...</td>\n",
       "    </tr>\n",
       "    <tr>\n",
       "      <th>4</th>\n",
       "      <td>1298788572263329792</td>\n",
       "      <td>2020-08-27 01:05:00</td>\n",
       "      <td>2912</td>\n",
       "      <td>385</td>\n",
       "      <td>🎶 Play to the beat of your own drum with 39 ne...</td>\n",
       "    </tr>\n",
       "  </tbody>\n",
       "</table>\n",
       "</div>"
      ],
      "text/plain": [
       "                    id          created_at   fav   rt  \\\n",
       "0  1299059620540035072 2020-08-27 19:02:03  1380  192   \n",
       "1  1299029126846787586 2020-08-27 17:00:53  1881  351   \n",
       "2  1299014221829738498 2020-08-27 16:01:39  1464  141   \n",
       "3  1298999090429059076 2020-08-27 15:01:32  1713  157   \n",
       "4  1298788572263329792 2020-08-27 01:05:00  2912  385   \n",
       "\n",
       "                                                text  \n",
       "0  Discover a puzzling adventure as a lost ember ...  \n",
       "1  All aboard the caravan!\\n\\n#FinalFantasy Cryst...  \n",
       "2  The Lore, Legends, and Heroes from Marvel have...  \n",
       "3  The war to save Reality starts now! Drop into ...  \n",
       "4  🎶 Play to the beat of your own drum with 39 ne...  "
      ]
     },
     "execution_count": 10,
     "metadata": {},
     "output_type": "execute_result"
    }
   ],
   "source": [
    "df = pd.DataFrame(outtweets,\n",
    "                  columns=['id', 'created_at', 'fav', 'rt', 'text'])\n",
    "df.head()"
   ]
  },
  {
   "cell_type": "code",
   "execution_count": 11,
   "metadata": {},
   "outputs": [],
   "source": [
    "# df.to_csv('../data/Nintendo_tweets.csv')"
   ]
  }
 ],
 "metadata": {
  "kernelspec": {
   "display_name": "Python 3",
   "language": "python",
   "name": "python3"
  },
  "language_info": {
   "codemirror_mode": {
    "name": "ipython",
    "version": 3
   },
   "file_extension": ".py",
   "mimetype": "text/x-python",
   "name": "python",
   "nbconvert_exporter": "python",
   "pygments_lexer": "ipython3",
   "version": "3.7.6"
  }
 },
 "nbformat": 4,
 "nbformat_minor": 4
}
